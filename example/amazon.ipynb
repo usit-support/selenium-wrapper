{
 "cells": [
  {
   "cell_type": "code",
   "execution_count": 4,
   "id": "7fd5121b-d939-4183-b040-7c0ad7967a5c",
   "metadata": {},
   "outputs": [],
   "source": [
    "import sys\n",
    "import yaml\n",
    "\n",
    "sys.path.append('..')\n",
    "from src.chrome import ChromeBrowser"
   ]
  },
  {
   "cell_type": "code",
   "execution_count": 5,
   "id": "1097dd72",
   "metadata": {},
   "outputs": [],
   "source": [
    "steps_path = 'steps.yml'\n",
    "\n",
    "with open(steps_path, 'r') as steps_file:\n",
    "    steps_content = yaml.safe_load(steps_file)"
   ]
  },
  {
   "cell_type": "code",
   "execution_count": 6,
   "id": "6faa3f19",
   "metadata": {},
   "outputs": [
    {
     "name": "stdout",
     "output_type": "stream",
     "text": [
      "/Users/romuloigor/chromedriver-mac-arm64/chromedriver\n"
     ]
    }
   ],
   "source": [
    "cb = ChromeBrowser(base_url=steps_content['variaveis']['base_url'])\n"
   ]
  },
  {
   "cell_type": "code",
   "execution_count": 8,
   "id": "cdf4bb31",
   "metadata": {},
   "outputs": [
    {
     "data": {
      "text/plain": [
       "<selenium.webdriver.remote.webelement.WebElement (session=\"b1c9eeedd1213415219b06141cda76bf\", element=\"f.9600B7D6B18B503AFB9974A5CE851BC1.d.76283114A77CA17B8A80241F5F235300.e.231\")>"
      ]
     },
     "execution_count": 8,
     "metadata": {},
     "output_type": "execute_result"
    }
   ],
   "source": [
    "cb.click_element(steps_content['variaveis']['nav-hamburger-menu'])"
   ]
  },
  {
   "cell_type": "code",
   "execution_count": 10,
   "id": "a08b83f3",
   "metadata": {},
   "outputs": [
    {
     "ename": "ElementClickInterceptedException",
     "evalue": "Message: element click intercepted: Element <a href=\"/gp/bestsellers/?ref_=nav_cs_bestsellers\" class=\"nav-a  \" tabindex=\"0\" data-csa-c-type=\"link\" data-csa-c-slot-id=\"nav_cs_1\" data-csa-c-content-id=\"nav_cs_bestsellers\" data-csa-c-id=\"z2zp72-sll2wv-z2goqb-i87r1t\">...</a> is not clickable at point (216, 79). Other element would receive the click: <li>...</li>\n  (Session info: chrome=131.0.6778.265)\nStacktrace:\n0   chromedriver                        0x0000000102f82138 cxxbridge1$str$ptr + 3653888\n1   chromedriver                        0x0000000102f7a988 cxxbridge1$str$ptr + 3623248\n2   chromedriver                        0x00000001029e0968 cxxbridge1$string$len + 89228\n3   chromedriver                        0x0000000102a2a5e0 cxxbridge1$string$len + 391428\n4   chromedriver                        0x0000000102a28c30 cxxbridge1$string$len + 384852\n5   chromedriver                        0x0000000102a26b74 cxxbridge1$string$len + 376472\n6   chromedriver                        0x0000000102a25fac cxxbridge1$string$len + 373456\n7   chromedriver                        0x0000000102a1b470 cxxbridge1$string$len + 329620\n8   chromedriver                        0x0000000102a1aec4 cxxbridge1$string$len + 328168\n9   chromedriver                        0x0000000102a5e4f0 cxxbridge1$string$len + 604180\n10  chromedriver                        0x0000000102a19564 cxxbridge1$string$len + 321672\n11  chromedriver                        0x0000000102a1a1b4 cxxbridge1$string$len + 324824\n12  chromedriver                        0x0000000102f4cfc0 cxxbridge1$str$ptr + 3436424\n13  chromedriver                        0x0000000102f502dc cxxbridge1$str$ptr + 3449508\n14  chromedriver                        0x0000000102f33e60 cxxbridge1$str$ptr + 3333672\n15  chromedriver                        0x0000000102f50b9c cxxbridge1$str$ptr + 3451748\n16  chromedriver                        0x0000000102f25678 cxxbridge1$str$ptr + 3274304\n17  chromedriver                        0x0000000102f6b2b4 cxxbridge1$str$ptr + 3560060\n18  chromedriver                        0x0000000102f6b430 cxxbridge1$str$ptr + 3560440\n19  chromedriver                        0x0000000102f7a5fc cxxbridge1$str$ptr + 3622340\n20  libsystem_pthread.dylib             0x00000001908b42e4 _pthread_start + 136\n21  libsystem_pthread.dylib             0x00000001908af0fc thread_start + 8\n",
     "output_type": "error",
     "traceback": [
      "\u001b[0;31m---------------------------------------------------------------------------\u001b[0m",
      "\u001b[0;31mElementClickInterceptedException\u001b[0m          Traceback (most recent call last)",
      "Cell \u001b[0;32mIn[10], line 1\u001b[0m\n\u001b[0;32m----> 1\u001b[0m cb\u001b[38;5;241m.\u001b[39mclick_menu(\u001b[38;5;124m'\u001b[39m\u001b[38;5;124mBest Sellers\u001b[39m\u001b[38;5;124m'\u001b[39m)\n",
      "File \u001b[0;32m~/Local/usitsupport/wrappers/selenium-wrapper/example/../src/chrome.py:55\u001b[0m, in \u001b[0;36mChromeBrowser.click_menu\u001b[0;34m(self, menu_text)\u001b[0m\n\u001b[1;32m     53\u001b[0m \u001b[38;5;28;01mfor\u001b[39;00m element \u001b[38;5;129;01min\u001b[39;00m elements:\n\u001b[1;32m     54\u001b[0m     \u001b[38;5;28;01mif\u001b[39;00m element\u001b[38;5;241m.\u001b[39mget_attribute(\u001b[38;5;124m'\u001b[39m\u001b[38;5;124mtext\u001b[39m\u001b[38;5;124m'\u001b[39m) \u001b[38;5;241m==\u001b[39m menu_text:\n\u001b[0;32m---> 55\u001b[0m         element\u001b[38;5;241m.\u001b[39mclick()\n\u001b[1;32m     56\u001b[0m         \u001b[38;5;28;01mreturn\u001b[39;00m element\n\u001b[1;32m     57\u001b[0m \u001b[38;5;28;01mraise\u001b[39;00m NoSuchElementException(\u001b[38;5;124mf\u001b[39m\u001b[38;5;124m\"\u001b[39m\u001b[38;5;124mMenu item not found: \u001b[39m\u001b[38;5;132;01m{\u001b[39;00mmenu_text\u001b[38;5;132;01m}\u001b[39;00m\u001b[38;5;124m\"\u001b[39m)\n",
      "File \u001b[0;32m/opt/anaconda3/lib/python3.12/site-packages/selenium/webdriver/remote/webelement.py:94\u001b[0m, in \u001b[0;36mWebElement.click\u001b[0;34m(self)\u001b[0m\n\u001b[1;32m     92\u001b[0m \u001b[38;5;28;01mdef\u001b[39;00m \u001b[38;5;21mclick\u001b[39m(\u001b[38;5;28mself\u001b[39m) \u001b[38;5;241m-\u001b[39m\u001b[38;5;241m>\u001b[39m \u001b[38;5;28;01mNone\u001b[39;00m:\n\u001b[1;32m     93\u001b[0m \u001b[38;5;250m    \u001b[39m\u001b[38;5;124;03m\"\"\"Clicks the element.\"\"\"\u001b[39;00m\n\u001b[0;32m---> 94\u001b[0m     \u001b[38;5;28mself\u001b[39m\u001b[38;5;241m.\u001b[39m_execute(Command\u001b[38;5;241m.\u001b[39mCLICK_ELEMENT)\n",
      "File \u001b[0;32m/opt/anaconda3/lib/python3.12/site-packages/selenium/webdriver/remote/webelement.py:395\u001b[0m, in \u001b[0;36mWebElement._execute\u001b[0;34m(self, command, params)\u001b[0m\n\u001b[1;32m    393\u001b[0m     params \u001b[38;5;241m=\u001b[39m {}\n\u001b[1;32m    394\u001b[0m params[\u001b[38;5;124m\"\u001b[39m\u001b[38;5;124mid\u001b[39m\u001b[38;5;124m\"\u001b[39m] \u001b[38;5;241m=\u001b[39m \u001b[38;5;28mself\u001b[39m\u001b[38;5;241m.\u001b[39m_id\n\u001b[0;32m--> 395\u001b[0m \u001b[38;5;28;01mreturn\u001b[39;00m \u001b[38;5;28mself\u001b[39m\u001b[38;5;241m.\u001b[39m_parent\u001b[38;5;241m.\u001b[39mexecute(command, params)\n",
      "File \u001b[0;32m/opt/anaconda3/lib/python3.12/site-packages/selenium/webdriver/remote/webdriver.py:354\u001b[0m, in \u001b[0;36mWebDriver.execute\u001b[0;34m(self, driver_command, params)\u001b[0m\n\u001b[1;32m    352\u001b[0m response \u001b[38;5;241m=\u001b[39m \u001b[38;5;28mself\u001b[39m\u001b[38;5;241m.\u001b[39mcommand_executor\u001b[38;5;241m.\u001b[39mexecute(driver_command, params)\n\u001b[1;32m    353\u001b[0m \u001b[38;5;28;01mif\u001b[39;00m response:\n\u001b[0;32m--> 354\u001b[0m     \u001b[38;5;28mself\u001b[39m\u001b[38;5;241m.\u001b[39merror_handler\u001b[38;5;241m.\u001b[39mcheck_response(response)\n\u001b[1;32m    355\u001b[0m     response[\u001b[38;5;124m\"\u001b[39m\u001b[38;5;124mvalue\u001b[39m\u001b[38;5;124m\"\u001b[39m] \u001b[38;5;241m=\u001b[39m \u001b[38;5;28mself\u001b[39m\u001b[38;5;241m.\u001b[39m_unwrap_value(response\u001b[38;5;241m.\u001b[39mget(\u001b[38;5;124m\"\u001b[39m\u001b[38;5;124mvalue\u001b[39m\u001b[38;5;124m\"\u001b[39m, \u001b[38;5;28;01mNone\u001b[39;00m))\n\u001b[1;32m    356\u001b[0m     \u001b[38;5;28;01mreturn\u001b[39;00m response\n",
      "File \u001b[0;32m/opt/anaconda3/lib/python3.12/site-packages/selenium/webdriver/remote/errorhandler.py:229\u001b[0m, in \u001b[0;36mErrorHandler.check_response\u001b[0;34m(self, response)\u001b[0m\n\u001b[1;32m    227\u001b[0m         alert_text \u001b[38;5;241m=\u001b[39m value[\u001b[38;5;124m\"\u001b[39m\u001b[38;5;124malert\u001b[39m\u001b[38;5;124m\"\u001b[39m]\u001b[38;5;241m.\u001b[39mget(\u001b[38;5;124m\"\u001b[39m\u001b[38;5;124mtext\u001b[39m\u001b[38;5;124m\"\u001b[39m)\n\u001b[1;32m    228\u001b[0m     \u001b[38;5;28;01mraise\u001b[39;00m exception_class(message, screen, stacktrace, alert_text)  \u001b[38;5;66;03m# type: ignore[call-arg]  # mypy is not smart enough here\u001b[39;00m\n\u001b[0;32m--> 229\u001b[0m \u001b[38;5;28;01mraise\u001b[39;00m exception_class(message, screen, stacktrace)\n",
      "\u001b[0;31mElementClickInterceptedException\u001b[0m: Message: element click intercepted: Element <a href=\"/gp/bestsellers/?ref_=nav_cs_bestsellers\" class=\"nav-a  \" tabindex=\"0\" data-csa-c-type=\"link\" data-csa-c-slot-id=\"nav_cs_1\" data-csa-c-content-id=\"nav_cs_bestsellers\" data-csa-c-id=\"z2zp72-sll2wv-z2goqb-i87r1t\">...</a> is not clickable at point (216, 79). Other element would receive the click: <li>...</li>\n  (Session info: chrome=131.0.6778.265)\nStacktrace:\n0   chromedriver                        0x0000000102f82138 cxxbridge1$str$ptr + 3653888\n1   chromedriver                        0x0000000102f7a988 cxxbridge1$str$ptr + 3623248\n2   chromedriver                        0x00000001029e0968 cxxbridge1$string$len + 89228\n3   chromedriver                        0x0000000102a2a5e0 cxxbridge1$string$len + 391428\n4   chromedriver                        0x0000000102a28c30 cxxbridge1$string$len + 384852\n5   chromedriver                        0x0000000102a26b74 cxxbridge1$string$len + 376472\n6   chromedriver                        0x0000000102a25fac cxxbridge1$string$len + 373456\n7   chromedriver                        0x0000000102a1b470 cxxbridge1$string$len + 329620\n8   chromedriver                        0x0000000102a1aec4 cxxbridge1$string$len + 328168\n9   chromedriver                        0x0000000102a5e4f0 cxxbridge1$string$len + 604180\n10  chromedriver                        0x0000000102a19564 cxxbridge1$string$len + 321672\n11  chromedriver                        0x0000000102a1a1b4 cxxbridge1$string$len + 324824\n12  chromedriver                        0x0000000102f4cfc0 cxxbridge1$str$ptr + 3436424\n13  chromedriver                        0x0000000102f502dc cxxbridge1$str$ptr + 3449508\n14  chromedriver                        0x0000000102f33e60 cxxbridge1$str$ptr + 3333672\n15  chromedriver                        0x0000000102f50b9c cxxbridge1$str$ptr + 3451748\n16  chromedriver                        0x0000000102f25678 cxxbridge1$str$ptr + 3274304\n17  chromedriver                        0x0000000102f6b2b4 cxxbridge1$str$ptr + 3560060\n18  chromedriver                        0x0000000102f6b430 cxxbridge1$str$ptr + 3560440\n19  chromedriver                        0x0000000102f7a5fc cxxbridge1$str$ptr + 3622340\n20  libsystem_pthread.dylib             0x00000001908b42e4 _pthread_start + 136\n21  libsystem_pthread.dylib             0x00000001908af0fc thread_start + 8\n"
     ]
    }
   ],
   "source": [
    "cb.click_menu('Best Sellers')"
   ]
  }
 ],
 "metadata": {
  "kernelspec": {
   "display_name": "base",
   "language": "python",
   "name": "python3"
  },
  "language_info": {
   "codemirror_mode": {
    "name": "ipython",
    "version": 3
   },
   "file_extension": ".py",
   "mimetype": "text/x-python",
   "name": "python",
   "nbconvert_exporter": "python",
   "pygments_lexer": "ipython3",
   "version": "3.12.4"
  }
 },
 "nbformat": 4,
 "nbformat_minor": 5
}
